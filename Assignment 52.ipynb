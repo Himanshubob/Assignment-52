{
 "cells": [
  {
   "cell_type": "markdown",
   "id": "74bab93f",
   "metadata": {},
   "source": [
    "# Q1. How does bagging reduce overfitting in decision trees?"
   ]
  },
  {
   "cell_type": "markdown",
   "id": "317b139f",
   "metadata": {},
   "source": [
    "# ans..bagging  is the group of the many model . so evry model predect sapretaly  bagging callcet the overall performats then bagging reduce the overfitting ."
   ]
  },
  {
   "cell_type": "markdown",
   "id": "4f739f6c",
   "metadata": {},
   "source": [
    "# Q2. What are the advantages and disadvantages of using different types of base learners in bagging?"
   ]
  },
  {
   "cell_type": "markdown",
   "id": "32c0fb69",
   "metadata": {},
   "source": [
    "# ans..Bagging offers the advantage of allowing many weak learners to combine efforts to outdo a single strong learner. It also helps in the reduction of variance, hence eliminating the overfitting of models in the procedure. One disadvantage of bagging is that it introduces a loss of interpretability of a model."
   ]
  },
  {
   "cell_type": "markdown",
   "id": "0fc2177d",
   "metadata": {},
   "source": [
    "# Q3. How does the choice of base learner affect the bias-variance tradeoff in bagging?"
   ]
  },
  {
   "cell_type": "markdown",
   "id": "fd8702f9",
   "metadata": {},
   "source": [
    "# ans..Bagging performs well on high variance models like decision trees. On lower variance models such as linear regression, it is not expected to affect the learning process. However, as per an experiment documented in this article, the accuracy reduces when bagging is carried out on models with high bias"
   ]
  },
  {
   "cell_type": "markdown",
   "id": "b33e49db",
   "metadata": {},
   "source": [
    "# Q4. Can bagging be used for both classification and regression tasks? How does it differ in each case?"
   ]
  },
  {
   "cell_type": "markdown",
   "id": "f8107b2d",
   "metadata": {},
   "source": [
    "# anns.. baggibng classification and regression is not huge defference  only deffernecse  out callification is majority of voting nad regression avergae of the all out put"
   ]
  },
  {
   "cell_type": "markdown",
   "id": "914da9ca",
   "metadata": {},
   "source": [
    "# Q5. What is the role of ensemble size in bagging? How many models should be included in the ensemble?"
   ]
  },
  {
   "cell_type": "markdown",
   "id": "90217d56",
   "metadata": {},
   "source": [
    "# Mostly statistical tests were used for determining the proper number of components. More recently, a theoretical framework suggested that there is an ideal number of component classifiers for an ensemble such that having more or less than this number of classifiers would deteriorate the accuracy."
   ]
  },
  {
   "cell_type": "markdown",
   "id": "28557c47",
   "metadata": {},
   "source": [
    "# Q6. Can you provide an example of a real-world application of bagging in machine learning?"
   ]
  },
  {
   "cell_type": "markdown",
   "id": "c47fc853",
   "metadata": {},
   "source": [
    "# ans..In this example, we implemented bagging in machine learning for breast cancer diagnosis"
   ]
  },
  {
   "cell_type": "code",
   "execution_count": null,
   "id": "19f9d095",
   "metadata": {},
   "outputs": [],
   "source": []
  }
 ],
 "metadata": {
  "kernelspec": {
   "display_name": "Python 3 (ipykernel)",
   "language": "python",
   "name": "python3"
  },
  "language_info": {
   "codemirror_mode": {
    "name": "ipython",
    "version": 3
   },
   "file_extension": ".py",
   "mimetype": "text/x-python",
   "name": "python",
   "nbconvert_exporter": "python",
   "pygments_lexer": "ipython3",
   "version": "3.10.9"
  }
 },
 "nbformat": 4,
 "nbformat_minor": 5
}
